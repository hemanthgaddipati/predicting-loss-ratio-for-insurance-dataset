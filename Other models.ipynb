{
 "cells": [
  {
   "cell_type": "code",
   "execution_count": null,
   "metadata": {},
   "outputs": [],
   "source": [
    "from sklearn.ensemble import RandomForestRegressor\n",
    "\n",
    "# creating the model\n",
    "model = RandomForestRegressor(n_estimators = 40, max_depth = 2, n_jobs = -3)\n",
    "# feeding the training data to the model\n",
    "model.fit(X_train_scaled, Y_train)\n",
    "\n",
    "# predicting the test set results\n",
    "Y_pred = model.predict(X_valid_scaled)\n",
    "\n",
    "# calculating the mean squared error\n",
    "mse = np.mean((Y_valid - Y_pred)**2, axis = None)\n",
    "print(\"MSE :\", mse)\n",
    "\n",
    "# Calculating the root mean squared error\n",
    "rmse = np.sqrt(mse)\n",
    "print(\"RMSE :\", rmse)\n",
    "\n",
    "mae = mean_absolute_error(Y_valid, Y_pred)\n",
    "print(\"MAE : \", mae)\n",
    "\n",
    "# Calculating the r2 score\n",
    "r2 = r2_score(Y_valid, Y_pred)\n",
    "print(\"r2 score :\", r2)\n",
    "\n",
    "plt.scatter(Y_valid, Y_pred)\n",
    "plt.xlabel(\"True Values\")\n",
    "plt.ylabel(\"Predictions\")"
   ]
  },
  {
   "cell_type": "code",
   "execution_count": null,
   "metadata": {},
   "outputs": [],
   "source": [
    "from sklearn.ensemble import RandomForestClassifier\n",
    "clf_RF = RandomForestClassifier(n_estimators=10, max_depth=2, random_state=0)\n",
    "clf_RF.fit(X_train_scaled, Y_train)\n",
    "\n",
    "# predicting the test set results\n",
    "Y_pred_rf = clf_RF.predict(X_valid_scaled)\n",
    "\n",
    "# calculating the mean squared error\n",
    "mse = np.mean((Y_valid - Y_pred_rf)**2, axis = None)\n",
    "print(\"MSE :\", mse)\n",
    "\n",
    "# Calculating the root mean squared error\n",
    "rmse = np.sqrt(mse)\n",
    "print(\"RMSE :\", rmse)\n",
    "\n",
    "mae = mean_absolute_error(Y_valid, Y_pred_rf)\n",
    "print(\"MAE : \", mae)\n",
    "\n",
    "# Calculating the r2 score\n",
    "r2 = r2_score(Y_valid, Y_pred_rf)\n",
    "print(\"r2 score :\", r2)\n",
    "\n",
    "f1_score(Y_valid, Y_pred_rf, average='micro')\n",
    "\n",
    "plt.scatter(Y_valid, Y_pred_rf)\n",
    "plt.xlabel(\"True Values\")\n",
    "plt.ylabel(\"Predictions\")"
   ]
  },
  {
   "cell_type": "code",
   "execution_count": null,
   "metadata": {},
   "outputs": [],
   "source": [
    "'''from xgboost import XGBClassifier\n",
    "xgb = XGBClassifier()\n",
    "xgb.fit(X_train, Y_train)\n",
    "\n",
    "Ytest_predict_xgb = xgb.predict(X_valid)\n",
    "\n",
    "mse = np.mean((Y_valid - Ytest_predict_xgb)**2, axis = None)\n",
    "print(\"MSE :\", mse)\n",
    "\n",
    "# Calculating the root mean squared error\n",
    "rmse = np.sqrt(mse)\n",
    "print(\"RMSE :\", rmse)\n",
    "\n",
    "mae = mean_absolute_error(Y_valid, Ytest_predict_xgb)\n",
    "print(\"MAE : \", mae)\n",
    "\n",
    "# Calculating the r2 score\n",
    "r2 = r2_score(Y_valid, Ytest_predict_xgb)\n",
    "print(\"r2 score :\", r2)\n",
    "\n",
    "plt.scatter(Y_valid, Ytest_predict_xgb)\n",
    "plt.grid()\n",
    "plt.xlabel('Actual y')\n",
    "plt.ylabel('Predicted y')\n",
    "plt.title('Scatter plot from actual y and predicted y')\n",
    "plt.show()'''"
   ]
  },
  {
   "cell_type": "code",
   "execution_count": null,
   "metadata": {},
   "outputs": [],
   "source": [
    "import lightgbm as lgb\n",
    "boost1  = lgb.LGBMRegressor()\n",
    "boost1.fit(X_train, Y_train)\n",
    "\n",
    "Ytest_predict_boost1 = boost1.predict(X_valid)\n",
    "\n",
    "mse = np.mean((Y_valid - Ytest_predict_boost1)**2, axis = None)\n",
    "print(\"MSE :\", mse)\n",
    "\n",
    "# Calculating the root mean squared error\n",
    "rmse = np.sqrt(mse)\n",
    "print(\"RMSE :\", rmse)\n",
    "\n",
    "mae = mean_absolute_error(Y_valid, Ytest_predict_boost1)\n",
    "print(\"MAE : \", mae)\n",
    "\n",
    "# Calculating the r2 score\n",
    "r2 = r2_score(Y_valid, Ytest_predict_boost1)\n",
    "print(\"r2 score :\", r2)\n",
    "\n",
    "plt.scatter(Y_valid, Ytest_predict_boost1)\n",
    "plt.grid()\n",
    "plt.xlabel('Actual y')\n",
    "plt.ylabel('Predicted y')\n",
    "plt.title('Scatter plot from actual y and predicted y')\n",
    "plt.show()"
   ]
  },
  {
   "cell_type": "code",
   "execution_count": null,
   "metadata": {},
   "outputs": [],
   "source": [
    "\n",
    "from sklearn.svm import SVR\n",
    "svr = SVR()\n",
    "svr.fit(X_train_scaled,Y_train)\n",
    "y_pred_svr = knn.predict(X_valid_scaled)"
   ]
  },
  {
   "cell_type": "code",
   "execution_count": null,
   "metadata": {},
   "outputs": [],
   "source": [
    "from sklearn.neighbors import KNeighborsClassifier\n",
    "svr = KNeighborsClassifier()\n",
    "knn.fit(X_train_scaled, Y_train)\n",
    "y_pred_knn = knn.predict(X_valid_scaled)"
   ]
  }
 ],
 "metadata": {
  "kernelspec": {
   "display_name": "Python 3",
   "language": "python",
   "name": "python3"
  },
  "language_info": {
   "codemirror_mode": {
    "name": "ipython",
    "version": 3
   },
   "file_extension": ".py",
   "mimetype": "text/x-python",
   "name": "python",
   "nbconvert_exporter": "python",
   "pygments_lexer": "ipython3",
   "version": "3.8.3"
  }
 },
 "nbformat": 4,
 "nbformat_minor": 4
}
